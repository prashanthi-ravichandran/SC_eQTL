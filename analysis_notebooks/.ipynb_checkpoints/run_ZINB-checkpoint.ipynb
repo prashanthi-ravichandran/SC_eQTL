{
 "cells": [
  {
   "cell_type": "code",
   "execution_count": 1,
   "metadata": {},
   "outputs": [],
   "source": [
    "import numpy as np\n",
    "import tensorflow as tf\n",
    "import scipy.special as sp\n",
    "import scipy.stats as st\n",
    "import scqtl\n",
    "import pandas as pd"
   ]
  },
  {
   "cell_type": "code",
   "execution_count": 2,
   "metadata": {},
   "outputs": [
    {
     "name": "stdout",
     "output_type": "stream",
     "text": [
      "19999 13788.233\n",
      "19999 13010.246\n"
     ]
    }
   ],
   "source": [
    "# Generate some ZINB-distributed counts\n",
    "num_samples = 1000\n",
    "umi = np.concatenate([scqtl.simulation.simulate(\n",
    "  num_samples=num_samples,\n",
    "  size=1e5,\n",
    "  seed=trial)[0][:,:1] for trial in range(10)], axis=1)\n",
    "size_factor = 1e5 * np.ones((num_samples, 1))\n",
    "\n",
    "# Generate a null design matrix\n",
    "design = np.zeros((num_samples, 1))\n",
    "\n",
    "# Map all samples to one individual/condition, i.e. one set of ZINB parameters\n",
    "onehot = np.ones((num_samples, 1))\n",
    "\n",
    "# Find the NB MLE\n",
    "# Important: casting to float32 is required\n",
    "init = scqtl.tf.fit(\n",
    "  umi=umi.astype(np.float32),\n",
    "  onehot=onehot.astype(np.float32),\n",
    "  design=design.astype(np.float32),\n",
    "  size_factor=size_factor.astype(np.float32),\n",
    "  learning_rate=1e-3,\n",
    "  max_epochs=20000,\n",
    "  verbose=True,\n",
    ")\n",
    "\n",
    "# Find the ZINB MLE, starting from the NB MLE\n",
    "log_mu, log_phi, logodds, nb_llik, zinb_llik = scqtl.tf.fit(\n",
    "  umi=umi.astype(np.float32),\n",
    "  onehot=onehot.astype(np.float32),\n",
    "  design=design.astype(np.float32),\n",
    "  size_factor=size_factor.astype(np.float32),\n",
    "  learning_rate=1e-3,\n",
    "  max_epochs=20000,\n",
    "  warm_start=init[:3],\n",
    "  verbose=True)"
   ]
  },
  {
   "cell_type": "code",
   "execution_count": 3,
   "metadata": {},
   "outputs": [
    {
     "name": "stdout",
     "output_type": "stream",
     "text": [
      "(1000, 1)\n",
      "(1000, 10)\n",
      "(1000, 1)\n",
      "(1000, 1)\n"
     ]
    }
   ],
   "source": [
    "print(design.shape)\n",
    "print(umi.shape)\n",
    "print(onehot.shape)\n",
    "print(size_factor.shape)"
   ]
  },
  {
   "cell_type": "code",
   "execution_count": 4,
   "metadata": {},
   "outputs": [],
   "source": [
    "def recode(annotations, key):\n",
    "  n = annotations.shape[0]\n",
    "  cat = sorted(set(annotations[key]))\n",
    "  onehot = np.zeros((n, len(cat)))\n",
    "  onehot[np.arange(n), annotations[key].apply(cat.index)] = 1\n",
    "  return onehot"
   ]
  },
  {
   "cell_type": "code",
   "execution_count": 5,
   "metadata": {},
   "outputs": [],
   "source": [
    "save_dir = \"/work-zfs/abattle4/prashanthi/Single_cell_eQTL/data/UMI_counts/expr/\"\n",
    "expr = pd.read_csv(save_dir + \"B_cells.csv\")"
   ]
  },
  {
   "cell_type": "code",
   "execution_count": 6,
   "metadata": {},
   "outputs": [
    {
     "name": "stdout",
     "output_type": "stream",
     "text": [
      "True\n"
     ]
    },
    {
     "data": {
      "text/html": [
       "<div>\n",
       "<style scoped>\n",
       "    .dataframe tbody tr th:only-of-type {\n",
       "        vertical-align: middle;\n",
       "    }\n",
       "\n",
       "    .dataframe tbody tr th {\n",
       "        vertical-align: top;\n",
       "    }\n",
       "\n",
       "    .dataframe thead th {\n",
       "        text-align: right;\n",
       "    }\n",
       "</style>\n",
       "<table border=\"1\" class=\"dataframe\">\n",
       "  <thead>\n",
       "    <tr style=\"text-align: right;\">\n",
       "      <th></th>\n",
       "      <th>index</th>\n",
       "      <th>disease_cov</th>\n",
       "      <th>ct_cov</th>\n",
       "      <th>pop_cov</th>\n",
       "      <th>ind_cov</th>\n",
       "      <th>well</th>\n",
       "      <th>batch_cov</th>\n",
       "      <th>batch</th>\n",
       "      <th>percent_mito</th>\n",
       "      <th>n_genes_by_counts</th>\n",
       "      <th>log1p_n_genes_by_counts</th>\n",
       "      <th>total_counts</th>\n",
       "      <th>log1p_total_counts</th>\n",
       "      <th>pct_counts_in_top_50_genes</th>\n",
       "      <th>pct_counts_in_top_100_genes</th>\n",
       "      <th>pct_counts_in_top_200_genes</th>\n",
       "      <th>pct_counts_in_top_500_genes</th>\n",
       "      <th>n_genes</th>\n",
       "    </tr>\n",
       "  </thead>\n",
       "  <tbody>\n",
       "    <tr>\n",
       "      <th>0</th>\n",
       "      <td>AAACCTGGTCGGCATC-1-0-0-0-0-0-0-0-0-0-0-0-0-0</td>\n",
       "      <td>sle</td>\n",
       "      <td>B cells</td>\n",
       "      <td>WHITE</td>\n",
       "      <td>1731_1731</td>\n",
       "      <td>YE_8-16-1</td>\n",
       "      <td>lupus8.16</td>\n",
       "      <td>0</td>\n",
       "      <td>0.049420</td>\n",
       "      <td>578</td>\n",
       "      <td>6.361302</td>\n",
       "      <td>1639.0</td>\n",
       "      <td>7.402451</td>\n",
       "      <td>51.799878</td>\n",
       "      <td>67.785235</td>\n",
       "      <td>76.937157</td>\n",
       "      <td>95.241001</td>\n",
       "      <td>578</td>\n",
       "    </tr>\n",
       "    <tr>\n",
       "      <th>1</th>\n",
       "      <td>AAATGCCAGTGCAAGC-1-0-0-0-0-0-0-0-0-0-0-0-0-0</td>\n",
       "      <td>sle</td>\n",
       "      <td>B cells</td>\n",
       "      <td>WHITE</td>\n",
       "      <td>1775_1775</td>\n",
       "      <td>YE_8-16-1</td>\n",
       "      <td>lupus8.16</td>\n",
       "      <td>0</td>\n",
       "      <td>0.024449</td>\n",
       "      <td>635</td>\n",
       "      <td>6.455199</td>\n",
       "      <td>1753.0</td>\n",
       "      <td>7.469654</td>\n",
       "      <td>47.860810</td>\n",
       "      <td>64.803195</td>\n",
       "      <td>75.185396</td>\n",
       "      <td>92.298916</td>\n",
       "      <td>635</td>\n",
       "    </tr>\n",
       "    <tr>\n",
       "      <th>2</th>\n",
       "      <td>AAATGCCCACAAGCCC-1-0-0-0-0-0-0-0-0-0-0-0-0-0</td>\n",
       "      <td>sle</td>\n",
       "      <td>B cells</td>\n",
       "      <td>ASIAN</td>\n",
       "      <td>1582_1582</td>\n",
       "      <td>YE_8-16-1</td>\n",
       "      <td>lupus8.16</td>\n",
       "      <td>0</td>\n",
       "      <td>0.045125</td>\n",
       "      <td>466</td>\n",
       "      <td>6.146329</td>\n",
       "      <td>1044.0</td>\n",
       "      <td>6.951772</td>\n",
       "      <td>44.636015</td>\n",
       "      <td>62.452107</td>\n",
       "      <td>74.521073</td>\n",
       "      <td>100.000000</td>\n",
       "      <td>466</td>\n",
       "    </tr>\n",
       "    <tr>\n",
       "      <th>3</th>\n",
       "      <td>AACCGCGCACGTCAGC-1-0-0-0-0-0-0-0-0-0-0-0-0-0</td>\n",
       "      <td>sle</td>\n",
       "      <td>B cells</td>\n",
       "      <td>ASIAN</td>\n",
       "      <td>1584_1584</td>\n",
       "      <td>YE_8-16-1</td>\n",
       "      <td>lupus8.16</td>\n",
       "      <td>0</td>\n",
       "      <td>0.023926</td>\n",
       "      <td>723</td>\n",
       "      <td>6.584791</td>\n",
       "      <td>1760.0</td>\n",
       "      <td>7.473637</td>\n",
       "      <td>40.852273</td>\n",
       "      <td>57.386364</td>\n",
       "      <td>70.284091</td>\n",
       "      <td>87.329545</td>\n",
       "      <td>723</td>\n",
       "    </tr>\n",
       "    <tr>\n",
       "      <th>4</th>\n",
       "      <td>AACGTTGCATCCCACT-1-0-0-0-0-0-0-0-0-0-0-0-0-0</td>\n",
       "      <td>sle</td>\n",
       "      <td>B cells</td>\n",
       "      <td>ASIAN</td>\n",
       "      <td>1584_1584</td>\n",
       "      <td>YE_8-16-1</td>\n",
       "      <td>lupus8.16</td>\n",
       "      <td>0</td>\n",
       "      <td>0.026713</td>\n",
       "      <td>580</td>\n",
       "      <td>6.364751</td>\n",
       "      <td>1433.0</td>\n",
       "      <td>7.268223</td>\n",
       "      <td>45.080251</td>\n",
       "      <td>61.828332</td>\n",
       "      <td>73.482205</td>\n",
       "      <td>94.417306</td>\n",
       "      <td>580</td>\n",
       "    </tr>\n",
       "  </tbody>\n",
       "</table>\n",
       "</div>"
      ],
      "text/plain": [
       "                                          index disease_cov   ct_cov pop_cov  \\\n",
       "0  AAACCTGGTCGGCATC-1-0-0-0-0-0-0-0-0-0-0-0-0-0         sle  B cells   WHITE   \n",
       "1  AAATGCCAGTGCAAGC-1-0-0-0-0-0-0-0-0-0-0-0-0-0         sle  B cells   WHITE   \n",
       "2  AAATGCCCACAAGCCC-1-0-0-0-0-0-0-0-0-0-0-0-0-0         sle  B cells   ASIAN   \n",
       "3  AACCGCGCACGTCAGC-1-0-0-0-0-0-0-0-0-0-0-0-0-0         sle  B cells   ASIAN   \n",
       "4  AACGTTGCATCCCACT-1-0-0-0-0-0-0-0-0-0-0-0-0-0         sle  B cells   ASIAN   \n",
       "\n",
       "     ind_cov       well  batch_cov  batch  percent_mito  n_genes_by_counts  \\\n",
       "0  1731_1731  YE_8-16-1  lupus8.16      0      0.049420                578   \n",
       "1  1775_1775  YE_8-16-1  lupus8.16      0      0.024449                635   \n",
       "2  1582_1582  YE_8-16-1  lupus8.16      0      0.045125                466   \n",
       "3  1584_1584  YE_8-16-1  lupus8.16      0      0.023926                723   \n",
       "4  1584_1584  YE_8-16-1  lupus8.16      0      0.026713                580   \n",
       "\n",
       "   log1p_n_genes_by_counts  total_counts  log1p_total_counts  \\\n",
       "0                 6.361302        1639.0            7.402451   \n",
       "1                 6.455199        1753.0            7.469654   \n",
       "2                 6.146329        1044.0            6.951772   \n",
       "3                 6.584791        1760.0            7.473637   \n",
       "4                 6.364751        1433.0            7.268223   \n",
       "\n",
       "   pct_counts_in_top_50_genes  pct_counts_in_top_100_genes  \\\n",
       "0                   51.799878                    67.785235   \n",
       "1                   47.860810                    64.803195   \n",
       "2                   44.636015                    62.452107   \n",
       "3                   40.852273                    57.386364   \n",
       "4                   45.080251                    61.828332   \n",
       "\n",
       "   pct_counts_in_top_200_genes  pct_counts_in_top_500_genes  n_genes  \n",
       "0                    76.937157                    95.241001      578  \n",
       "1                    75.185396                    92.298916      635  \n",
       "2                    74.521073                   100.000000      466  \n",
       "3                    70.284091                    87.329545      723  \n",
       "4                    73.482205                    94.417306      580  "
      ]
     },
     "execution_count": 6,
     "metadata": {},
     "output_type": "execute_result"
    }
   ],
   "source": [
    "meta_data = pd.read_csv(\"/work-zfs/abattle4/prashanthi/Single_cell_eQTL/data/UMI_counts/metadata/B_cells.csv\")\n",
    "print(meta_data['index'].equals(expr['index']))\n",
    "meta_data.head()"
   ]
  },
  {
   "cell_type": "code",
   "execution_count": 7,
   "metadata": {},
   "outputs": [
    {
     "name": "stdout",
     "output_type": "stream",
     "text": [
      "0    55141\n",
      "Name: batch, dtype: int64\n",
      "lupus1.10    8495\n",
      "lupus8.3     6350\n",
      "lupus7.19    5535\n",
      "lupus7.26    5226\n",
      "lupus8.17    5160\n",
      "lupus8.2     4970\n",
      "lupus7.13    4685\n",
      "lupus8.9     4055\n",
      "lupus8.23    4036\n",
      "lupus7.20    3576\n",
      "lupus8.16    3053\n",
      "Name: batch_cov, dtype: int64\n",
      "ASIAN    35401\n",
      "WHITE    19740\n",
      "Name: pop_cov, dtype: int64\n",
      "YE110-3      2220\n",
      "YE110-4      2152\n",
      "YE110-2      2130\n",
      "YE_8-9-3     2050\n",
      "YE_8-9-4     2005\n",
      "YE110-1      1993\n",
      "YE_8-3-2     1633\n",
      "YE_8-3-3     1582\n",
      "YE_8-3-1     1572\n",
      "YE_8-3-4     1563\n",
      "YE_7-26-1    1551\n",
      "YE_7-19-1    1432\n",
      "YE_7-19-3    1408\n",
      "YE_8-2-1     1400\n",
      "YE_7-19-4    1391\n",
      "YE_8-17-4    1385\n",
      "YE_8-2-3     1333\n",
      "YE_7-26-4    1322\n",
      "YE_8-17-3    1320\n",
      "YE_7-19-2    1304\n",
      "YE_7-13-1    1270\n",
      "YE_8-17-2    1238\n",
      "YE_8-17-1    1217\n",
      "YE_7-26-3    1196\n",
      "YE_7-13-3    1171\n",
      "YE_8-2-4     1161\n",
      "YE_7-26-2    1157\n",
      "YE_7-20-4    1144\n",
      "YE_7-20-2    1139\n",
      "YE_7-13-2    1124\n",
      "YE_7-13-4    1120\n",
      "YE_8-2-2     1076\n",
      "YE_8-23-1    1052\n",
      "YE_8-23-4    1010\n",
      "YE_8-23-2     994\n",
      "YE_8-23-3     980\n",
      "YE_8-16-2     941\n",
      "YE_8-16-3     912\n",
      "YE_8-16-4     886\n",
      "YE_7-20-3     783\n",
      "YE_7-20-1     510\n",
      "YE_8-16-1     314\n",
      "Name: well, dtype: int64\n"
     ]
    }
   ],
   "source": [
    "# Examine the meta data distributions\n",
    "print(meta_data.batch.value_counts())\n",
    "print(meta_data.batch_cov.value_counts())\n",
    "print(meta_data.pop_cov.value_counts())\n",
    "print(meta_data.well.value_counts())"
   ]
  },
  {
   "cell_type": "code",
   "execution_count": 8,
   "metadata": {},
   "outputs": [
    {
     "data": {
      "text/plain": [
       "array([[0., 0., 0., ..., 0., 0., 0.],\n",
       "       [0., 0., 0., ..., 0., 0., 0.],\n",
       "       [0., 0., 0., ..., 0., 0., 0.],\n",
       "       ...,\n",
       "       [0., 1., 0., ..., 1., 0., 0.],\n",
       "       [0., 0., 0., ..., 0., 0., 0.],\n",
       "       [0., 1., 0., ..., 0., 0., 0.]])"
      ]
     },
     "execution_count": 8,
     "metadata": {},
     "output_type": "execute_result"
    }
   ],
   "source": [
    "umi = expr.iloc[:, 1:].values\n",
    "umi"
   ]
  },
  {
   "cell_type": "code",
   "execution_count": 9,
   "metadata": {},
   "outputs": [
    {
     "name": "stdout",
     "output_type": "stream",
     "text": [
      "True\n"
     ]
    }
   ],
   "source": [
    "size_factor = pd.read_csv(\"/work-zfs/abattle4/prashanthi/Single_cell_eQTL/data/size_factor/B_cells.csv\")\n",
    "print(size_factor['index'].equals(expr['index']))\n",
    "size_factor = size_factor['total_counts'].values.reshape((umi.shape[0],1))"
   ]
  },
  {
   "cell_type": "code",
   "execution_count": 10,
   "metadata": {},
   "outputs": [],
   "source": [
    "batch     = recode(meta_data, \"batch\")\n",
    "batch_cov = recode(meta_data, \"batch_cov\")\n",
    "well      = recode(meta_data, \"well\")\n",
    "pop_cov   = recode(meta_data, \"pop_cov\")\n",
    "design    = np.concatenate((batch, batch_cov, well, pop_cov), axis = 1)\n",
    "design -= design.mean(axis=0)\n",
    "onehot = recode(meta_data, \"ind_cov\")"
   ]
  },
  {
   "cell_type": "code",
   "execution_count": 11,
   "metadata": {},
   "outputs": [],
   "source": [
    "# Create variables to store the inferred log_mu and log_phi values\n",
    "log_mu = np.empty([onehot.shape[1], umi.shape[1]])\n",
    "log_phi = np.empty([onehot.shape[1], umi.shape[1]])\n",
    "logodds = np.empty([onehot.shape[1], umi.shape[1]])\n",
    "nb_llik = np.empty([onehot.shape[1]])\n",
    "zinb_llik = np.empty([onehot.shape[1]])"
   ]
  },
  {
   "cell_type": "code",
   "execution_count": 12,
   "metadata": {},
   "outputs": [
    {
     "name": "stdout",
     "output_type": "stream",
     "text": [
      "(55141, 56)\n",
      "(55141, 7398)\n",
      "(55141, 119)\n",
      "(55141, 1)\n"
     ]
    }
   ],
   "source": [
    "print(design.shape)\n",
    "print(umi.shape)\n",
    "print(onehot.shape)\n",
    "print(size_factor.shape)"
   ]
  },
  {
   "cell_type": "code",
   "execution_count": 13,
   "metadata": {},
   "outputs": [
    {
     "name": "stdout",
     "output_type": "stream",
     "text": [
      "(55141, 200)\n",
      "99999 3203944.80\n",
      "99999 3083638.2\n",
      "(55141, 200)\n",
      "99999 2968410.00\n",
      "99999 2845414.5\n",
      "(55141, 200)\n",
      "99999 3415198.50\n",
      "12500 3339444.2\r"
     ]
    },
    {
     "ename": "KeyboardInterrupt",
     "evalue": "",
     "output_type": "error",
     "traceback": [
      "\u001b[0;31m---------------------------------------------------------------------------\u001b[0m",
      "\u001b[0;31mKeyboardInterrupt\u001b[0m                         Traceback (most recent call last)",
      "\u001b[0;32m<ipython-input-13-c8651b49a519>\u001b[0m in \u001b[0;36m<module>\u001b[0;34m\u001b[0m\n\u001b[1;32m     25\u001b[0m       \u001b[0mmax_epochs\u001b[0m\u001b[0;34m=\u001b[0m\u001b[0;36m100000\u001b[0m\u001b[0;34m,\u001b[0m\u001b[0;34m\u001b[0m\u001b[0;34m\u001b[0m\u001b[0m\n\u001b[1;32m     26\u001b[0m       \u001b[0mwarm_start\u001b[0m\u001b[0;34m=\u001b[0m\u001b[0minit\u001b[0m\u001b[0;34m[\u001b[0m\u001b[0;34m:\u001b[0m\u001b[0;36m3\u001b[0m\u001b[0;34m]\u001b[0m\u001b[0;34m,\u001b[0m\u001b[0;34m\u001b[0m\u001b[0;34m\u001b[0m\u001b[0m\n\u001b[0;32m---> 27\u001b[0;31m       verbose=True)\n\u001b[0m",
      "\u001b[0;32m~/.local/lib/python3.6/site-packages/scqtl/tf.py\u001b[0m in \u001b[0;36mfit\u001b[0;34m(umi, onehot, size_factor, design, learning_rate, max_epochs, return_beta, warm_start, verbose)\u001b[0m\n\u001b[1;32m    139\u001b[0m           \u001b[0m_\u001b[0m\u001b[0;34m,\u001b[0m \u001b[0mupdate\u001b[0m \u001b[0;34m=\u001b[0m \u001b[0msess\u001b[0m\u001b[0;34m.\u001b[0m\u001b[0mrun\u001b[0m\u001b[0;34m(\u001b[0m\u001b[0;34m[\u001b[0m\u001b[0mtrain_nb\u001b[0m\u001b[0;34m,\u001b[0m \u001b[0mnb_nll\u001b[0m\u001b[0;34m]\u001b[0m\u001b[0;34m)\u001b[0m\u001b[0;34m\u001b[0m\u001b[0;34m\u001b[0m\u001b[0m\n\u001b[1;32m    140\u001b[0m         \u001b[0;32melse\u001b[0m\u001b[0;34m:\u001b[0m\u001b[0;34m\u001b[0m\u001b[0;34m\u001b[0m\u001b[0m\n\u001b[0;32m--> 141\u001b[0;31m           \u001b[0m_\u001b[0m\u001b[0;34m,\u001b[0m \u001b[0mupdate\u001b[0m \u001b[0;34m=\u001b[0m \u001b[0msess\u001b[0m\u001b[0;34m.\u001b[0m\u001b[0mrun\u001b[0m\u001b[0;34m(\u001b[0m\u001b[0;34m[\u001b[0m\u001b[0mtrain_zinb\u001b[0m\u001b[0;34m,\u001b[0m \u001b[0mzinb_nll\u001b[0m\u001b[0;34m]\u001b[0m\u001b[0;34m)\u001b[0m\u001b[0;34m\u001b[0m\u001b[0;34m\u001b[0m\u001b[0m\n\u001b[0m\u001b[1;32m    142\u001b[0m         \u001b[0;32mif\u001b[0m \u001b[0;32mnot\u001b[0m \u001b[0mnp\u001b[0m\u001b[0;34m.\u001b[0m\u001b[0misfinite\u001b[0m\u001b[0;34m(\u001b[0m\u001b[0mupdate\u001b[0m\u001b[0;34m)\u001b[0m\u001b[0;34m:\u001b[0m\u001b[0;34m\u001b[0m\u001b[0;34m\u001b[0m\u001b[0m\n\u001b[1;32m    143\u001b[0m           \u001b[0;32mraise\u001b[0m \u001b[0mtf\u001b[0m\u001b[0;34m.\u001b[0m\u001b[0mtrain\u001b[0m\u001b[0;34m.\u001b[0m\u001b[0mNanLossDuringTrainingError\u001b[0m\u001b[0;34m\u001b[0m\u001b[0;34m\u001b[0m\u001b[0m\n",
      "\u001b[0;32m~/.local/lib/python3.6/site-packages/tensorflow/python/client/session.py\u001b[0m in \u001b[0;36mrun\u001b[0;34m(self, fetches, feed_dict, options, run_metadata)\u001b[0m\n\u001b[1;32m    927\u001b[0m     \u001b[0;32mtry\u001b[0m\u001b[0;34m:\u001b[0m\u001b[0;34m\u001b[0m\u001b[0;34m\u001b[0m\u001b[0m\n\u001b[1;32m    928\u001b[0m       result = self._run(None, fetches, feed_dict, options_ptr,\n\u001b[0;32m--> 929\u001b[0;31m                          run_metadata_ptr)\n\u001b[0m\u001b[1;32m    930\u001b[0m       \u001b[0;32mif\u001b[0m \u001b[0mrun_metadata\u001b[0m\u001b[0;34m:\u001b[0m\u001b[0;34m\u001b[0m\u001b[0;34m\u001b[0m\u001b[0m\n\u001b[1;32m    931\u001b[0m         \u001b[0mproto_data\u001b[0m \u001b[0;34m=\u001b[0m \u001b[0mtf_session\u001b[0m\u001b[0;34m.\u001b[0m\u001b[0mTF_GetBuffer\u001b[0m\u001b[0;34m(\u001b[0m\u001b[0mrun_metadata_ptr\u001b[0m\u001b[0;34m)\u001b[0m\u001b[0;34m\u001b[0m\u001b[0;34m\u001b[0m\u001b[0m\n",
      "\u001b[0;32m~/.local/lib/python3.6/site-packages/tensorflow/python/client/session.py\u001b[0m in \u001b[0;36m_run\u001b[0;34m(self, handle, fetches, feed_dict, options, run_metadata)\u001b[0m\n\u001b[1;32m   1150\u001b[0m     \u001b[0;32mif\u001b[0m \u001b[0mfinal_fetches\u001b[0m \u001b[0;32mor\u001b[0m \u001b[0mfinal_targets\u001b[0m \u001b[0;32mor\u001b[0m \u001b[0;34m(\u001b[0m\u001b[0mhandle\u001b[0m \u001b[0;32mand\u001b[0m \u001b[0mfeed_dict_tensor\u001b[0m\u001b[0;34m)\u001b[0m\u001b[0;34m:\u001b[0m\u001b[0;34m\u001b[0m\u001b[0;34m\u001b[0m\u001b[0m\n\u001b[1;32m   1151\u001b[0m       results = self._do_run(handle, final_targets, final_fetches,\n\u001b[0;32m-> 1152\u001b[0;31m                              feed_dict_tensor, options, run_metadata)\n\u001b[0m\u001b[1;32m   1153\u001b[0m     \u001b[0;32melse\u001b[0m\u001b[0;34m:\u001b[0m\u001b[0;34m\u001b[0m\u001b[0;34m\u001b[0m\u001b[0m\n\u001b[1;32m   1154\u001b[0m       \u001b[0mresults\u001b[0m \u001b[0;34m=\u001b[0m \u001b[0;34m[\u001b[0m\u001b[0;34m]\u001b[0m\u001b[0;34m\u001b[0m\u001b[0;34m\u001b[0m\u001b[0m\n",
      "\u001b[0;32m~/.local/lib/python3.6/site-packages/tensorflow/python/client/session.py\u001b[0m in \u001b[0;36m_do_run\u001b[0;34m(self, handle, target_list, fetch_list, feed_dict, options, run_metadata)\u001b[0m\n\u001b[1;32m   1326\u001b[0m     \u001b[0;32mif\u001b[0m \u001b[0mhandle\u001b[0m \u001b[0;32mis\u001b[0m \u001b[0;32mNone\u001b[0m\u001b[0;34m:\u001b[0m\u001b[0;34m\u001b[0m\u001b[0;34m\u001b[0m\u001b[0m\n\u001b[1;32m   1327\u001b[0m       return self._do_call(_run_fn, feeds, fetches, targets, options,\n\u001b[0;32m-> 1328\u001b[0;31m                            run_metadata)\n\u001b[0m\u001b[1;32m   1329\u001b[0m     \u001b[0;32melse\u001b[0m\u001b[0;34m:\u001b[0m\u001b[0;34m\u001b[0m\u001b[0;34m\u001b[0m\u001b[0m\n\u001b[1;32m   1330\u001b[0m       \u001b[0;32mreturn\u001b[0m \u001b[0mself\u001b[0m\u001b[0;34m.\u001b[0m\u001b[0m_do_call\u001b[0m\u001b[0;34m(\u001b[0m\u001b[0m_prun_fn\u001b[0m\u001b[0;34m,\u001b[0m \u001b[0mhandle\u001b[0m\u001b[0;34m,\u001b[0m \u001b[0mfeeds\u001b[0m\u001b[0;34m,\u001b[0m \u001b[0mfetches\u001b[0m\u001b[0;34m)\u001b[0m\u001b[0;34m\u001b[0m\u001b[0;34m\u001b[0m\u001b[0m\n",
      "\u001b[0;32m~/.local/lib/python3.6/site-packages/tensorflow/python/client/session.py\u001b[0m in \u001b[0;36m_do_call\u001b[0;34m(self, fn, *args)\u001b[0m\n\u001b[1;32m   1332\u001b[0m   \u001b[0;32mdef\u001b[0m \u001b[0m_do_call\u001b[0m\u001b[0;34m(\u001b[0m\u001b[0mself\u001b[0m\u001b[0;34m,\u001b[0m \u001b[0mfn\u001b[0m\u001b[0;34m,\u001b[0m \u001b[0;34m*\u001b[0m\u001b[0margs\u001b[0m\u001b[0;34m)\u001b[0m\u001b[0;34m:\u001b[0m\u001b[0;34m\u001b[0m\u001b[0;34m\u001b[0m\u001b[0m\n\u001b[1;32m   1333\u001b[0m     \u001b[0;32mtry\u001b[0m\u001b[0;34m:\u001b[0m\u001b[0;34m\u001b[0m\u001b[0;34m\u001b[0m\u001b[0m\n\u001b[0;32m-> 1334\u001b[0;31m       \u001b[0;32mreturn\u001b[0m \u001b[0mfn\u001b[0m\u001b[0;34m(\u001b[0m\u001b[0;34m*\u001b[0m\u001b[0margs\u001b[0m\u001b[0;34m)\u001b[0m\u001b[0;34m\u001b[0m\u001b[0;34m\u001b[0m\u001b[0m\n\u001b[0m\u001b[1;32m   1335\u001b[0m     \u001b[0;32mexcept\u001b[0m \u001b[0merrors\u001b[0m\u001b[0;34m.\u001b[0m\u001b[0mOpError\u001b[0m \u001b[0;32mas\u001b[0m \u001b[0me\u001b[0m\u001b[0;34m:\u001b[0m\u001b[0;34m\u001b[0m\u001b[0;34m\u001b[0m\u001b[0m\n\u001b[1;32m   1336\u001b[0m       \u001b[0mmessage\u001b[0m \u001b[0;34m=\u001b[0m \u001b[0mcompat\u001b[0m\u001b[0;34m.\u001b[0m\u001b[0mas_text\u001b[0m\u001b[0;34m(\u001b[0m\u001b[0me\u001b[0m\u001b[0;34m.\u001b[0m\u001b[0mmessage\u001b[0m\u001b[0;34m)\u001b[0m\u001b[0;34m\u001b[0m\u001b[0;34m\u001b[0m\u001b[0m\n",
      "\u001b[0;32m~/.local/lib/python3.6/site-packages/tensorflow/python/client/session.py\u001b[0m in \u001b[0;36m_run_fn\u001b[0;34m(feed_dict, fetch_list, target_list, options, run_metadata)\u001b[0m\n\u001b[1;32m   1317\u001b[0m       \u001b[0mself\u001b[0m\u001b[0;34m.\u001b[0m\u001b[0m_extend_graph\u001b[0m\u001b[0;34m(\u001b[0m\u001b[0;34m)\u001b[0m\u001b[0;34m\u001b[0m\u001b[0;34m\u001b[0m\u001b[0m\n\u001b[1;32m   1318\u001b[0m       return self._call_tf_sessionrun(\n\u001b[0;32m-> 1319\u001b[0;31m           options, feed_dict, fetch_list, target_list, run_metadata)\n\u001b[0m\u001b[1;32m   1320\u001b[0m \u001b[0;34m\u001b[0m\u001b[0m\n\u001b[1;32m   1321\u001b[0m     \u001b[0;32mdef\u001b[0m \u001b[0m_prun_fn\u001b[0m\u001b[0;34m(\u001b[0m\u001b[0mhandle\u001b[0m\u001b[0;34m,\u001b[0m \u001b[0mfeed_dict\u001b[0m\u001b[0;34m,\u001b[0m \u001b[0mfetch_list\u001b[0m\u001b[0;34m)\u001b[0m\u001b[0;34m:\u001b[0m\u001b[0;34m\u001b[0m\u001b[0;34m\u001b[0m\u001b[0m\n",
      "\u001b[0;32m~/.local/lib/python3.6/site-packages/tensorflow/python/client/session.py\u001b[0m in \u001b[0;36m_call_tf_sessionrun\u001b[0;34m(self, options, feed_dict, fetch_list, target_list, run_metadata)\u001b[0m\n\u001b[1;32m   1405\u001b[0m     return tf_session.TF_SessionRun_wrapper(\n\u001b[1;32m   1406\u001b[0m         \u001b[0mself\u001b[0m\u001b[0;34m.\u001b[0m\u001b[0m_session\u001b[0m\u001b[0;34m,\u001b[0m \u001b[0moptions\u001b[0m\u001b[0;34m,\u001b[0m \u001b[0mfeed_dict\u001b[0m\u001b[0;34m,\u001b[0m \u001b[0mfetch_list\u001b[0m\u001b[0;34m,\u001b[0m \u001b[0mtarget_list\u001b[0m\u001b[0;34m,\u001b[0m\u001b[0;34m\u001b[0m\u001b[0;34m\u001b[0m\u001b[0m\n\u001b[0;32m-> 1407\u001b[0;31m         run_metadata)\n\u001b[0m\u001b[1;32m   1408\u001b[0m \u001b[0;34m\u001b[0m\u001b[0m\n\u001b[1;32m   1409\u001b[0m   \u001b[0;32mdef\u001b[0m \u001b[0m_call_tf_sessionprun\u001b[0m\u001b[0;34m(\u001b[0m\u001b[0mself\u001b[0m\u001b[0;34m,\u001b[0m \u001b[0mhandle\u001b[0m\u001b[0;34m,\u001b[0m \u001b[0mfeed_dict\u001b[0m\u001b[0;34m,\u001b[0m \u001b[0mfetch_list\u001b[0m\u001b[0;34m)\u001b[0m\u001b[0;34m:\u001b[0m\u001b[0;34m\u001b[0m\u001b[0;34m\u001b[0m\u001b[0m\n",
      "\u001b[0;31mKeyboardInterrupt\u001b[0m: "
     ]
    }
   ],
   "source": [
    "n_genes = 200\n",
    "for i in range(0, umi.shape[1], n_genes):\n",
    "    if((i + n_genes) < umi.shape[1]):\n",
    "        start_index = i\n",
    "        end_index = i + n_genes\n",
    "    else:\n",
    "        start_index = i\n",
    "        end_index = umi.shape[1]\n",
    "    umi_sub = umi[:, start_index:end_index]\n",
    "    print(umi_sub.shape)\n",
    "    init = scqtl.tf.fit(\n",
    "      umi=umi_sub.astype(np.float32),\n",
    "      onehot=onehot.astype(np.float32),\n",
    "      design=design.astype(np.float32),\n",
    "      size_factor=size_factor.astype(np.float32),\n",
    "      learning_rate=1e-4,\n",
    "      max_epochs=100000,\n",
    "      verbose=True)\n",
    "    log_mu[:,start_index:end_index], log_phi[:,start_index:end_index], logodds[:,start_index:end_index], nb_llik[start_index:end_index], zinb_llik[start_index:end_index] = scqtl.tf.fit(\n",
    "      umi=umi_sub.astype(np.float32),\n",
    "      onehot=onehot.astype(np.float32),\n",
    "      design=design.astype(np.float32),\n",
    "      size_factor=size_factor.astype(np.float32),\n",
    "      learning_rate=1e-4,\n",
    "      max_epochs=100000,\n",
    "      warm_start=init[:3],\n",
    "      verbose=True)"
   ]
  },
  {
   "cell_type": "code",
   "execution_count": 16,
   "metadata": {},
   "outputs": [
    {
     "ename": "NameError",
     "evalue": "name 'res' is not defined",
     "output_type": "error",
     "traceback": [
      "\u001b[0;31m---------------------------------------------------------------------------\u001b[0m",
      "\u001b[0;31mNameError\u001b[0m                                 Traceback (most recent call last)",
      "\u001b[0;32m<ipython-input-16-ee772b4eb5b4>\u001b[0m in \u001b[0;36m<module>\u001b[0;34m\u001b[0m\n\u001b[0;32m----> 1\u001b[0;31m \u001b[0mres\u001b[0m\u001b[0;34m.\u001b[0m\u001b[0mdir\u001b[0m \u001b[0;34m=\u001b[0m \u001b[0;34m\"/work-zfs/abattle4/prashanthi/Single_cell_eQTL/results/ZINB_summary_stats/\"\u001b[0m\u001b[0;34m+\u001b[0m \u001b[0;34m\"B_cells\"\u001b[0m\u001b[0;34m\u001b[0m\u001b[0;34m\u001b[0m\u001b[0m\n\u001b[0m\u001b[1;32m      2\u001b[0m \u001b[0mnp\u001b[0m\u001b[0;34m.\u001b[0m\u001b[0msavetxt\u001b[0m\u001b[0;34m(\u001b[0m\u001b[0;34m(\u001b[0m\u001b[0mres\u001b[0m\u001b[0;34m.\u001b[0m\u001b[0mdir\u001b[0m \u001b[0;34m+\u001b[0m \u001b[0;34m\"/log_mu.csv\"\u001b[0m\u001b[0;34m)\u001b[0m\u001b[0;34m,\u001b[0m \u001b[0mlog_mu\u001b[0m\u001b[0;34m,\u001b[0m \u001b[0mdelimiter\u001b[0m\u001b[0;34m=\u001b[0m\u001b[0;34m\",\"\u001b[0m\u001b[0;34m)\u001b[0m\u001b[0;34m\u001b[0m\u001b[0;34m\u001b[0m\u001b[0m\n\u001b[1;32m      3\u001b[0m \u001b[0mnp\u001b[0m\u001b[0;34m.\u001b[0m\u001b[0msavetxt\u001b[0m\u001b[0;34m(\u001b[0m\u001b[0;34m(\u001b[0m\u001b[0mres\u001b[0m\u001b[0;34m.\u001b[0m\u001b[0mdir\u001b[0m \u001b[0;34m+\u001b[0m \u001b[0;34m\"/log_phi.csv\"\u001b[0m\u001b[0;34m)\u001b[0m\u001b[0;34m,\u001b[0m \u001b[0mlog_phi\u001b[0m\u001b[0;34m,\u001b[0m \u001b[0mdelimiter\u001b[0m\u001b[0;34m=\u001b[0m\u001b[0;34m\",\"\u001b[0m\u001b[0;34m)\u001b[0m\u001b[0;34m\u001b[0m\u001b[0;34m\u001b[0m\u001b[0m\n\u001b[1;32m      4\u001b[0m \u001b[0mnp\u001b[0m\u001b[0;34m.\u001b[0m\u001b[0msavetxt\u001b[0m\u001b[0;34m(\u001b[0m\u001b[0;34m(\u001b[0m\u001b[0mres\u001b[0m\u001b[0;34m.\u001b[0m\u001b[0mdir\u001b[0m \u001b[0;34m+\u001b[0m \u001b[0;34m\"/logodds.csv\"\u001b[0m\u001b[0;34m)\u001b[0m\u001b[0;34m,\u001b[0m \u001b[0mlogodds\u001b[0m\u001b[0;34m,\u001b[0m \u001b[0mdelimiter\u001b[0m\u001b[0;34m=\u001b[0m\u001b[0;34m\",\"\u001b[0m\u001b[0;34m)\u001b[0m\u001b[0;34m\u001b[0m\u001b[0;34m\u001b[0m\u001b[0m\n\u001b[1;32m      5\u001b[0m \u001b[0mnp\u001b[0m\u001b[0;34m.\u001b[0m\u001b[0msavetxt\u001b[0m\u001b[0;34m(\u001b[0m\u001b[0;34m(\u001b[0m\u001b[0mres\u001b[0m\u001b[0;34m.\u001b[0m\u001b[0mdir\u001b[0m \u001b[0;34m+\u001b[0m \u001b[0;34m\"/nb_llik.csv\"\u001b[0m\u001b[0;34m)\u001b[0m\u001b[0;34m,\u001b[0m \u001b[0mnb_llik\u001b[0m\u001b[0;34m,\u001b[0m \u001b[0mdelimiter\u001b[0m\u001b[0;34m=\u001b[0m\u001b[0;34m\",\"\u001b[0m\u001b[0;34m)\u001b[0m\u001b[0;34m\u001b[0m\u001b[0;34m\u001b[0m\u001b[0m\n",
      "\u001b[0;31mNameError\u001b[0m: name 'res' is not defined"
     ]
    }
   ],
   "source": [
    "res_dir = \"/work-zfs/abattle4/prashanthi/Single_cell_eQTL/results/ZINB_summary_stats/\"+ \"B_cells\"\n",
    "np.savetxt((res.dir + \"/log_mu.csv\"), log_mu, delimiter=\",\")\n",
    "np.savetxt((res.dir + \"/log_phi.csv\"), log_phi, delimiter=\",\")\n",
    "np.savetxt((res.dir + \"/logodds.csv\"), logodds, delimiter=\",\")\n",
    "np.savetxt((res.dir + \"/nb_llik.csv\"), nb_llik, delimiter=\",\")\n",
    "np.savetxt((res.dir + \"/zinb_llik.csv\"), zinb_llik, delimiter=\",\")"
   ]
  },
  {
   "cell_type": "code",
   "execution_count": null,
   "metadata": {},
   "outputs": [],
   "source": []
  }
 ],
 "metadata": {
  "kernelspec": {
   "display_name": "Python [conda env:tensorflow_gpu_env]",
   "language": "python",
   "name": "conda-env-tensorflow_gpu_env-py"
  },
  "language_info": {
   "codemirror_mode": {
    "name": "ipython",
    "version": 3
   },
   "file_extension": ".py",
   "mimetype": "text/x-python",
   "name": "python",
   "nbconvert_exporter": "python",
   "pygments_lexer": "ipython3",
   "version": "3.6.10"
  }
 },
 "nbformat": 4,
 "nbformat_minor": 2
}
