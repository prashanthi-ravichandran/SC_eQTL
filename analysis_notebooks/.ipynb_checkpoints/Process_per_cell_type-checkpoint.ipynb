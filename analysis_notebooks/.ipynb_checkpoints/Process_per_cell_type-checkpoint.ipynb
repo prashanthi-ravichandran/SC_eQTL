{
 "cells": [
  {
   "cell_type": "code",
   "execution_count": 2,
   "metadata": {},
   "outputs": [],
   "source": [
    "import numpy as np\n",
    "import scipy as sp\n",
    "import pandas as pd\n",
    "import scanpy as sc\n",
    "import matplotlib.pyplot as plt"
   ]
  },
  {
   "cell_type": "code",
   "execution_count": 3,
   "metadata": {},
   "outputs": [
    {
     "name": "stdout",
     "output_type": "stream",
     "text": [
      "scanpy==1.4.6 anndata==0.7.1 umap==0.3.10 numpy==1.16.4 scipy==1.4.1 pandas==1.0.3 scikit-learn==0.22.2.post1 statsmodels==0.11.1\n"
     ]
    }
   ],
   "source": [
    "sc.logging.print_versions()\n",
    "sc.settings.set_figure_params(dpi=80)"
   ]
  },
  {
   "cell_type": "code",
   "execution_count": 4,
   "metadata": {},
   "outputs": [],
   "source": [
    "all_cells = sc.read(\"/work-zfs/abattle4/prashanthi/Single_cell_eQTL/data/CLUESImmVar_nonorm.V6.h5ad\", cache = True)\n",
    "# Restrict only to individuals with lupus\n",
    "all_cells = all_cells[all_cells.obs['disease_cov'] == 'sle']"
   ]
  },
  {
   "cell_type": "markdown",
   "metadata": {},
   "source": [
    "## Organizing data by cell type"
   ]
  },
  {
   "cell_type": "code",
   "execution_count": 5,
   "metadata": {},
   "outputs": [],
   "source": [
    "megakaryocytes = all_cells[all_cells.obs['ct_cov'] == 'Megakaryocytes'] \n",
    "CD4_T_cells = all_cells[all_cells.obs['ct_cov'] == 'CD4 T cells']\n",
    "CD8_T_cells = all_cells[all_cells.obs['ct_cov'] == 'CD8 T cells']\n",
    "CD14_monocytes = all_cells[all_cells.obs['ct_cov'] == 'CD14+ Monocytes']\n",
    "FCGR3A_monocytes = all_cells[all_cells.obs['ct_cov'] == 'FCGR3A+ Monocytes']\n",
    "NK_cells = all_cells[all_cells.obs['ct_cov'] == 'NK cells']\n",
    "B_cells = all_cells[all_cells.obs['ct_cov'] == 'B cells']\n",
    "dendritic_cells = all_cells[all_cells.obs['ct_cov'] == 'Dendritic cells']"
   ]
  },
  {
   "cell_type": "code",
   "execution_count": 6,
   "metadata": {},
   "outputs": [
    {
     "name": "stderr",
     "output_type": "stream",
     "text": [
      "Trying to set attribute `.obs` of view, copying.\n",
      "Trying to set attribute `.obs` of view, copying.\n",
      "Trying to set attribute `.obs` of view, copying.\n",
      "Trying to set attribute `.obs` of view, copying.\n",
      "Trying to set attribute `.obs` of view, copying.\n",
      "Trying to set attribute `.obs` of view, copying.\n",
      "Trying to set attribute `.obs` of view, copying.\n",
      "Trying to set attribute `.obs` of view, copying.\n"
     ]
    }
   ],
   "source": [
    "mito_genes = all_cells.var_names.str.startswith('MT-')\n",
    "megakaryocytes.obs['percent_mito'] = np.sum(\n",
    "    megakaryocytes[:, mito_genes].X, axis=1).A1 / np.sum(megakaryocytes.X, axis=1).A1\n",
    "CD4_T_cells.obs['percent_mito'] = np.sum(\n",
    "    CD4_T_cells[:, mito_genes].X, axis=1).A1 / np.sum(CD4_T_cells.X, axis=1).A1\n",
    "CD8_T_cells.obs['percent_mito'] = np.sum(\n",
    "    CD8_T_cells[:, mito_genes].X, axis=1).A1 / np.sum(CD8_T_cells.X, axis=1).A1\n",
    "CD14_monocytes.obs['percent_mito'] = np.sum(\n",
    "    CD14_monocytes[:, mito_genes].X, axis=1).A1 / np.sum(CD14_monocytes.X, axis=1).A1\n",
    "FCGR3A_monocytes.obs['percent_mito'] = np.sum(\n",
    "    FCGR3A_monocytes[:, mito_genes].X, axis=1).A1 / np.sum(FCGR3A_monocytes.X, axis=1).A1\n",
    "NK_cells.obs['percent_mito'] = np.sum(\n",
    "    NK_cells[:, mito_genes].X, axis=1).A1 / np.sum(NK_cells.X, axis=1).A1\n",
    "B_cells.obs['percent_mito'] = np.sum(\n",
    "    B_cells[:, mito_genes].X, axis=1).A1 / np.sum(B_cells.X, axis=1).A1\n",
    "dendritic_cells.obs['percent_mito'] = np.sum(\n",
    "    dendritic_cells[:, mito_genes].X, axis=1).A1 / np.sum(dendritic_cells.X, axis=1).A1\n"
   ]
  },
  {
   "cell_type": "markdown",
   "metadata": {},
   "source": [
    "## Perform cell and gene filtering on all genes"
   ]
  },
  {
   "cell_type": "code",
   "execution_count": 7,
   "metadata": {},
   "outputs": [],
   "source": [
    "sc.pp.calculate_qc_metrics(megakaryocytes, inplace=True)\n",
    "sc.pp.calculate_qc_metrics(CD4_T_cells, inplace=True)\n",
    "sc.pp.calculate_qc_metrics(CD8_T_cells, inplace=True)\n",
    "sc.pp.calculate_qc_metrics(CD14_monocytes, inplace=True)\n",
    "sc.pp.calculate_qc_metrics(FCGR3A_monocytes, inplace=True)\n",
    "sc.pp.calculate_qc_metrics(NK_cells, inplace=True)\n",
    "sc.pp.calculate_qc_metrics(B_cells, inplace=True)\n",
    "sc.pp.calculate_qc_metrics(dendritic_cells, inplace=True)"
   ]
  },
  {
   "cell_type": "code",
   "execution_count": 8,
   "metadata": {},
   "outputs": [],
   "source": [
    "megakaryocytes_sf = megakaryocytes.obs['total_counts']\n",
    "CD4_T_cells_sf = CD4_T_cells.obs['total_counts']\n",
    "CD8_T_cells_sf = CD8_T_cells.obs['total_counts']\n",
    "CD14_monocytes_sf = CD14_monocytes.obs['total_counts']\n",
    "FCGR3A_monocytes_sf = FCGR3A_monocytes.obs['total_counts']\n",
    "NK_cells_sf = NK_cells.obs['total_counts']\n",
    "B_cells_sf = B_cells.obs['total_counts']\n",
    "dendritic_cells_sf = dendritic_cells.obs['total_counts']"
   ]
  },
  {
   "cell_type": "code",
   "execution_count": 9,
   "metadata": {},
   "outputs": [],
   "source": [
    "sc.pp.filter_cells(megakaryocytes, min_genes = 200)\n",
    "sc.pp.filter_cells(CD4_T_cells, min_genes = 200)\n",
    "sc.pp.filter_cells(CD8_T_cells, min_genes = 200)\n",
    "sc.pp.filter_cells(CD14_monocytes, min_genes = 200)\n",
    "sc.pp.filter_cells(FCGR3A_monocytes, min_genes = 200)\n",
    "sc.pp.filter_cells(NK_cells, min_genes = 200)\n",
    "sc.pp.filter_cells(B_cells, min_genes = 200)\n",
    "sc.pp.filter_cells(dendritic_cells, min_genes = 200)"
   ]
  },
  {
   "cell_type": "code",
   "execution_count": 10,
   "metadata": {},
   "outputs": [],
   "source": [
    "sc.pp.filter_genes(megakaryocytes, min_cells = 3)\n",
    "sc.pp.filter_genes(CD4_T_cells, min_cells = 3)\n",
    "sc.pp.filter_genes(CD8_T_cells, min_cells = 3)\n",
    "sc.pp.filter_genes(CD14_monocytes, min_cells = 3)\n",
    "sc.pp.filter_genes(FCGR3A_monocytes, min_cells = 3)\n",
    "sc.pp.filter_genes(NK_cells, min_cells = 3)\n",
    "sc.pp.filter_genes(B_cells, min_cells = 3)\n",
    "sc.pp.filter_genes(dendritic_cells, min_cells = 3)"
   ]
  },
  {
   "cell_type": "code",
   "execution_count": 11,
   "metadata": {},
   "outputs": [],
   "source": [
    "# Filter cells based on mito\n",
    "megakaryocytes = megakaryocytes[megakaryocytes.obs.percent_mito <= 0.05, :]\n",
    "CD4_T_cells = CD4_T_cells[CD4_T_cells.obs.percent_mito <= 0.05, :]\n",
    "CD8_T_cells = CD8_T_cells[CD8_T_cells.obs.percent_mito <= 0.05, :]\n",
    "CD14_monocytes = CD14_monocytes[CD14_monocytes.obs.percent_mito <= 0.05, :]\n",
    "FCGR3A_monocytes = FCGR3A_monocytes[FCGR3A_monocytes.obs.percent_mito <= 0.05, :]\n",
    "NK_cells = NK_cells[NK_cells.obs.percent_mito <= 0.05, :]\n",
    "B_cells = B_cells[B_cells.obs.percent_mito <= 0.05, :]\n",
    "dendritic_cells = dendritic_cells[dendritic_cells.obs.percent_mito <= 0.05, :]"
   ]
  },
  {
   "cell_type": "code",
   "execution_count": 12,
   "metadata": {},
   "outputs": [
    {
     "name": "stderr",
     "output_type": "stream",
     "text": [
      "Trying to set attribute `.obs` of view, copying.\n",
      "Trying to set attribute `.obs` of view, copying.\n",
      "Trying to set attribute `.obs` of view, copying.\n",
      "Trying to set attribute `.obs` of view, copying.\n",
      "Trying to set attribute `.obs` of view, copying.\n",
      "Trying to set attribute `.obs` of view, copying.\n",
      "Trying to set attribute `.obs` of view, copying.\n",
      "Trying to set attribute `.obs` of view, copying.\n"
     ]
    }
   ],
   "source": [
    "# Filter cells with more than 2500 expressed genes\n",
    "sc.pp.filter_cells(megakaryocytes, max_genes = 2500)\n",
    "sc.pp.filter_cells(CD4_T_cells, max_genes = 2500)\n",
    "sc.pp.filter_cells(CD8_T_cells, max_genes = 2500)\n",
    "sc.pp.filter_cells(CD14_monocytes, max_genes = 2500)\n",
    "sc.pp.filter_cells(FCGR3A_monocytes, max_genes = 2500)\n",
    "sc.pp.filter_cells(NK_cells, max_genes = 2500)\n",
    "sc.pp.filter_cells(B_cells, max_genes = 2500)\n",
    "sc.pp.filter_cells(dendritic_cells, max_genes = 2500)"
   ]
  },
  {
   "cell_type": "markdown",
   "metadata": {},
   "source": [
    "## eQTL specific filtering"
   ]
  },
  {
   "cell_type": "code",
   "execution_count": 13,
   "metadata": {},
   "outputs": [],
   "source": [
    "# Select only autosomal protein coding genes\n",
    "gene_list = pd.read_csv(\"gencode.v19.annotation.gene.txt\", sep = \"\\t\")\n",
    "gene_list = gene_list.loc[gene_list['gene_type'] == \"protein_coding\", ]\n",
    "gene_list = gene_list.loc[gene_list['gene_status'] == \"KNOWN\", ]\n",
    "gene_list = gene_list.loc[gene_list['chr'] != \"chrM\", ]\n",
    "gene_list = gene_list.loc[gene_list['chr'] != \"chrX\", ]\n",
    "gene_list = gene_list.loc[gene_list['chr'] != \"chrY\", ]   \n",
    "\n",
    "gene_name = gene_list[\"gene_name\"].tolist()"
   ]
  },
  {
   "cell_type": "code",
   "execution_count": 14,
   "metadata": {},
   "outputs": [],
   "source": [
    "# Select only protein coding genes\n",
    "common_genes = [x for x in gene_name if x in megakaryocytes.var.index]\n",
    "megakaryocytes = megakaryocytes[:, common_genes]\n",
    "\n",
    "common_genes = [x for x in gene_name if x in CD4_T_cells.var.index]\n",
    "CD4_T_cells = CD4_T_cells[: ,common_genes]\n",
    "\n",
    "common_genes = [x for x in gene_name if x in CD8_T_cells.var.index]\n",
    "CD8_T_cells = CD8_T_cells[: ,common_genes]\n",
    "\n",
    "common_genes = [x for x in gene_name if x in CD14_monocytes.var.index]\n",
    "CD14_monocytes = CD14_monocytes[: ,common_genes]\n",
    "\n",
    "common_genes = [x for x in gene_name if x in FCGR3A_monocytes.var.index]\n",
    "FCGR3A_monocytes = FCGR3A_monocytes[: ,common_genes]\n",
    "\n",
    "common_genes = [x for x in gene_name if x in NK_cells.var.index]\n",
    "NK_cells = NK_cells[: ,common_genes]\n",
    "\n",
    "common_genes = [x for x in gene_name if x in B_cells.var.index]\n",
    "B_cells = B_cells[: ,common_genes]\n",
    "\n",
    "common_genes = [x for x in gene_name if x in dendritic_cells.var.index]\n",
    "dendritic_cells = dendritic_cells[: ,common_genes]"
   ]
  },
  {
   "cell_type": "code",
   "execution_count": 15,
   "metadata": {},
   "outputs": [
    {
     "name": "stderr",
     "output_type": "stream",
     "text": [
      "Trying to set attribute `.obs` of view, copying.\n",
      "Variable names are not unique. To make them unique, call `.var_names_make_unique`.\n",
      "Variable names are not unique. To make them unique, call `.var_names_make_unique`.\n",
      "Trying to set attribute `.obs` of view, copying.\n",
      "Variable names are not unique. To make them unique, call `.var_names_make_unique`.\n",
      "Variable names are not unique. To make them unique, call `.var_names_make_unique`.\n",
      "Trying to set attribute `.obs` of view, copying.\n",
      "Variable names are not unique. To make them unique, call `.var_names_make_unique`.\n",
      "Variable names are not unique. To make them unique, call `.var_names_make_unique`.\n",
      "Trying to set attribute `.obs` of view, copying.\n",
      "Variable names are not unique. To make them unique, call `.var_names_make_unique`.\n",
      "Variable names are not unique. To make them unique, call `.var_names_make_unique`.\n",
      "Trying to set attribute `.obs` of view, copying.\n",
      "Variable names are not unique. To make them unique, call `.var_names_make_unique`.\n",
      "Variable names are not unique. To make them unique, call `.var_names_make_unique`.\n",
      "Trying to set attribute `.obs` of view, copying.\n",
      "Variable names are not unique. To make them unique, call `.var_names_make_unique`.\n",
      "Variable names are not unique. To make them unique, call `.var_names_make_unique`.\n",
      "Trying to set attribute `.obs` of view, copying.\n",
      "Variable names are not unique. To make them unique, call `.var_names_make_unique`.\n",
      "Variable names are not unique. To make them unique, call `.var_names_make_unique`.\n",
      "Trying to set attribute `.obs` of view, copying.\n",
      "Variable names are not unique. To make them unique, call `.var_names_make_unique`.\n",
      "Variable names are not unique. To make them unique, call `.var_names_make_unique`.\n"
     ]
    }
   ],
   "source": [
    "sc.pp.calculate_qc_metrics(megakaryocytes, inplace=True)\n",
    "sc.pp.calculate_qc_metrics(CD4_T_cells , inplace=True)\n",
    "sc.pp.calculate_qc_metrics(CD8_T_cells, inplace=True)\n",
    "sc.pp.calculate_qc_metrics(CD14_monocytes, inplace=True)\n",
    "sc.pp.calculate_qc_metrics(FCGR3A_monocytes, inplace=True)\n",
    "sc.pp.calculate_qc_metrics(NK_cells, inplace=True)\n",
    "sc.pp.calculate_qc_metrics(B_cells, inplace=True)\n",
    "sc.pp.calculate_qc_metrics(dendritic_cells, inplace=True)\n",
    "\n",
    "megakaryocytes.var_names_make_unique()\n",
    "CD4_T_cells.var_names_make_unique()\n",
    "CD8_T_cells.var_names_make_unique()\n",
    "CD14_monocytes.var_names_make_unique()\n",
    "FCGR3A_monocytes.var_names_make_unique()\n",
    "NK_cells.var_names_make_unique()\n",
    "B_cells.var_names_make_unique()\n",
    "dendritic_cells.var_names_make_unique()"
   ]
  },
  {
   "cell_type": "code",
   "execution_count": 16,
   "metadata": {},
   "outputs": [],
   "source": [
    "sc.pp.filter_cells(megakaryocytes, min_genes = 400)\n",
    "sc.pp.filter_cells(CD4_T_cells, min_genes = 400)\n",
    "sc.pp.filter_cells(CD8_T_cells, min_genes = 400)\n",
    "sc.pp.filter_cells(CD14_monocytes, min_genes = 400)\n",
    "sc.pp.filter_cells(FCGR3A_monocytes, min_genes = 400)\n",
    "sc.pp.filter_cells(NK_cells, min_genes = 400)\n",
    "sc.pp.filter_cells(B_cells, min_genes = 400)\n",
    "sc.pp.filter_cells(dendritic_cells, min_genes = 400)"
   ]
  },
  {
   "cell_type": "code",
   "execution_count": 17,
   "metadata": {},
   "outputs": [],
   "source": [
    "sc.pp.filter_genes(megakaryocytes, min_cells = (0.05*megakaryocytes.shape[0]))\n",
    "sc.pp.filter_genes(CD4_T_cells, min_cells = (0.05*megakaryocytes.shape[0]))\n",
    "sc.pp.filter_genes(CD8_T_cells, min_cells = (0.05*megakaryocytes.shape[0]))\n",
    "sc.pp.filter_genes(CD14_monocytes, min_cells = (0.05*megakaryocytes.shape[0]))\n",
    "sc.pp.filter_genes(FCGR3A_monocytes, min_cells = (0.05*megakaryocytes.shape[0]))\n",
    "sc.pp.filter_genes(NK_cells, min_cells = (0.05*megakaryocytes.shape[0]))\n",
    "sc.pp.filter_genes(B_cells, min_cells = (0.05*megakaryocytes.shape[0]))\n",
    "sc.pp.filter_genes(dendritic_cells, min_cells = (0.05*megakaryocytes.shape[0]))"
   ]
  },
  {
   "cell_type": "code",
   "execution_count": 18,
   "metadata": {},
   "outputs": [
    {
     "name": "stdout",
     "output_type": "stream",
     "text": [
      "Megakaryocytes\n",
      "(10188, 3313)\n",
      "CD4 T cells\n",
      "(134709, 9246)\n",
      "CD8 T cells\n",
      "(10188, 3313)\n",
      "CD14+ monocytes\n",
      "(115160, 9350)\n",
      "FCGR3A+ monocytes\n",
      "(24324, 7005)\n",
      "NK cells\n",
      "(39579, 6967)\n",
      "B cells\n",
      "(55141, 7398)\n",
      "Dendritic cells\n",
      "(7978, 5076)\n"
     ]
    }
   ],
   "source": [
    "print(\"Megakaryocytes\")\n",
    "print(megakaryocytes.shape)\n",
    "\n",
    "print(\"CD4 T cells\")\n",
    "print(CD4_T_cells.shape)\n",
    "\n",
    "print(\"CD8 T cells\")\n",
    "print(CD8_T_cells.shape)\n",
    "\n",
    "print(\"CD14+ monocytes\")\n",
    "print(CD14_monocytes.shape)\n",
    "\n",
    "print(\"FCGR3A+ monocytes\")\n",
    "print(FCGR3A_monocytes.shape)\n",
    "\n",
    "print(\"NK cells\")\n",
    "print(NK_cells.shape)\n",
    "\n",
    "print(\"B cells\")\n",
    "print(B_cells.shape)\n",
    "\n",
    "print(\"Dendritic cells\")\n",
    "print(dendritic_cells.shape)"
   ]
  },
  {
   "cell_type": "markdown",
   "metadata": {},
   "source": [
    "## Save UMI counts"
   ]
  },
  {
   "cell_type": "code",
   "execution_count": null,
   "metadata": {},
   "outputs": [],
   "source": [
    "# Save the filtered UMI data for computing pseudobulk\n",
    "save_dir = \"/work-zfs/abattle4/prashanthi/Single_cell_eQTL/data/UMI_counts/expr/\"\n",
    "pd.DataFrame(data=megakaryocytes.X.toarray(), index=megakaryocytes.obs_names, columns=megakaryocytes.var_names).to_csv(save_dir + \"megakaryocytes.csv\")\n",
    "pd.DataFrame(data=CD4_T_cells.X.toarray(), index=CD4_T_cells.obs_names, columns=CD4_T_cells.var_names).to_csv(save_dir + \"CD4_T_cells.csv\")\n",
    "pd.DataFrame(data=CD8_T_cells.X.toarray(), index=CD8_T_cells.obs_names, columns=CD8_T_cells.var_names).to_csv(save_dir + \"CD8_T_cells.csv\")\n",
    "pd.DataFrame(data=CD14_monocytes.X.toarray(), index=CD14_monocytes.obs_names, columns=CD14_monocytes.var_names).to_csv(save_dir + \"CD14_monocytes.csv\")\n",
    "pd.DataFrame(data=FCGR3A_monocytes.X.toarray(), index=FCGR3A_monocytes.obs_names, columns=FCGR3A_monocytes.var_names).to_csv(save_dir + \"FCGR3A_monocytes.csv\")\n",
    "pd.DataFrame(data=NK_cells.X.toarray(), index=NK_cells.obs_names, columns=NK_cells.var_names).to_csv(save_dir + \"NK_cells.csv\")\n",
    "pd.DataFrame(data=B_cells.X.toarray(), index=B_cells.obs_names, columns=B_cells.var_names).to_csv(save_dir + \"B_cells.csv\")\n",
    "pd.DataFrame(data=dendritic_cells.X.toarray(), index=dendritic_cells.obs_names, columns=dendritic_cells.var_names).to_csv(save_dir + \"dendritic_cells.csv\")\n"
   ]
  },
  {
   "cell_type": "code",
   "execution_count": null,
   "metadata": {},
   "outputs": [],
   "source": [
    "meta_dir = \"/work-zfs/abattle4/prashanthi/Single_cell_eQTL/data/UMI_counts/metadata/\"\n",
    "\n",
    "megakaryocytes.obs.to_csv(meta_dir + \"megakaryocytes.csv\")\n",
    "CD4_T_cells.obs.to_csv(meta_dir + \"CD4_T_cells.csv\")\n",
    "CD8_T_cells.obs.to_csv(meta_dir + \"CD8_T_cells.csv\")\n",
    "CD14_monocytes.obs.to_csv(meta_dir + \"CD14_monocytes.csv\")\n",
    "FCGR3A_monocytes.obs.to_csv(meta_dir + \"FCGR3A_monocytes.csv\")\n",
    "NK_cells.obs.to_csv(meta_dir + \"NK_cells.csv\")\n",
    "B_cells.obs.to_csv(meta_dir + \"B_cells.csv\")\n",
    "dendritic_cells.obs.to_csv(meta_dir + \"dendritic_cells.csv\")\n"
   ]
  },
  {
   "cell_type": "markdown",
   "metadata": {},
   "source": [
    "## Compute size factor "
   ]
  },
  {
   "cell_type": "code",
   "execution_count": 23,
   "metadata": {},
   "outputs": [],
   "source": [
    "sf_dir = \"/work-zfs/abattle4/prashanthi/Single_cell_eQTL/data/size_factor/\"\n",
    "megakaryocytes_sf[megakaryocytes.obs_names].to_csv(sf_dir + \"megakaryocytes.csv\")\n",
    "CD4_T_cells_sf[CD4_T_cells.obs_names].to_csv(sf_dir + \"CD4_T_cells.csv\")\n",
    "CD8_T_cells_sf[CD8_T_cells.obs_names].to_csv(sf_dir + \"CD8_T_cells.csv\")\n",
    "CD14_monocytes_sf[CD14_monocytes.obs_names].to_csv(sf_dir + \"CD14_monocytes.csv\")\n",
    "FCGR3A_monocytes_sf[FCGR3A_monocytes.obs_names].to_csv(sf_dir + \"FCGR3A_monocytes.csv\")\n",
    "NK_cells_sf[NK_cells.obs_names].to_csv(sf_dir + \"NK_cells.csv\")\n",
    "B_cells_sf[B_cells.obs_names].to_csv(sf_dir + \"B_cells.csv\")\n",
    "dendritic_cells_sf[dendritic_cells.obs_names].to_csv(sf_dir + \"dendritic_cells.csv\")"
   ]
  },
  {
   "cell_type": "markdown",
   "metadata": {},
   "source": [
    "## Normalize, log transform and scale the data"
   ]
  },
  {
   "cell_type": "code",
   "execution_count": null,
   "metadata": {},
   "outputs": [],
   "source": [
    "# Normalize the data \n",
    "sc.pp.normalize_total(megakaryocytes, target_sum=1e6, inplace = True)\n",
    "sc.pp.normalize_total(CD4_T_cells, target_sum=1e6, inplace = True)\n",
    "sc.pp.normalize_total(CD8_T_cells, target_sum=1e6, inplace = True)\n",
    "sc.pp.normalize_total(CD14_monocytes, target_sum=1e6, inplace = True)\n",
    "sc.pp.normalize_total(FCGR3A_monocytes, target_sum=1e6, inplace = True)\n",
    "sc.pp.normalize_total(NK_cells, target_sum=1e6, inplace = True)\n",
    "sc.pp.normalize_total(B_cells, target_sum=1e6, inplace = True)\n",
    "sc.pp.normalize_total(dendritic_cells, target_sum=1e6, inplace = True)"
   ]
  },
  {
   "cell_type": "code",
   "execution_count": null,
   "metadata": {},
   "outputs": [],
   "source": [
    "# Compute log transformed data \n",
    "sc.pp.log1p(megakaryocytes)\n",
    "sc.pp.log1p(CD4_T_cells)\n",
    "sc.pp.log1p(CD8_T_cells)\n",
    "sc.pp.log1p(CD14_monocytes)\n",
    "sc.pp.log1p(FCGR3A_monocytes)\n",
    "sc.pp.log1p(NK_cells)\n",
    "sc.pp.log1p(B_cells)\n",
    "sc.pp.log1p(dendritic_cells)"
   ]
  },
  {
   "cell_type": "code",
   "execution_count": null,
   "metadata": {},
   "outputs": [],
   "source": [
    "# Scale the data\n",
    "sc.pp.scale(megakaryocytes)\n",
    "sc.pp.scale(CD4_T_cells)\n",
    "sc.pp.scale(CD8_T_cells)\n",
    "sc.pp.scale(CD14_monocytes)\n",
    "sc.pp.scale(FCGR3A_monocytes)\n",
    "sc.pp.scale(NK_cells)\n",
    "sc.pp.scale(B_cells)\n",
    "sc.pp.scale(dendritic_cells)"
   ]
  },
  {
   "cell_type": "markdown",
   "metadata": {},
   "source": [
    "## Compute the PCs"
   ]
  },
  {
   "cell_type": "code",
   "execution_count": null,
   "metadata": {},
   "outputs": [],
   "source": [
    "sc.tl.pca(megakaryocytes, svd_solver='arpack')\n",
    "sc.tl.pca(CD4_T_cells, svd_solver='arpack')\n",
    "sc.tl.pca(CD8_T_cells, svd_solver='arpack')\n",
    "sc.tl.pca(CD14_monocytes, svd_solver='arpack')\n",
    "sc.tl.pca(FCGR3A_monocytes, svd_solver='arpack')\n",
    "sc.tl.pca(NK_cells, svd_solver='arpack')\n",
    "sc.tl.pca(B_cells, svd_solver='arpack')\n",
    "sc.tl.pca(dendritic_cells, svd_solver='arpack')"
   ]
  },
  {
   "cell_type": "code",
   "execution_count": null,
   "metadata": {},
   "outputs": [],
   "source": [
    "# Visualize how known covariates can explain the PCs\n",
    "sc.pl.pca(megakaryocytes, color='pop_cov', title = \"Megakaryocytes (pop_cov)\")\n",
    "sc.pl.pca(CD4_T_cells, color='pop_cov', title = \"CD4 T cells (pop_cov)\")\n",
    "sc.pl.pca(CD8_T_cells, color='pop_cov', title = \"CD8 T cells (pop_cov)\")\n",
    "sc.pl.pca(CD14_monocytes, color='pop_cov', title = \"CD14+ monocytes (pop_cov)\")\n",
    "sc.pl.pca(FCGR3A_monocytes, color='pop_cov', title = \"FCGR3A+ monocytes (pop_cov)\")\n",
    "sc.pl.pca(NK_cells, color='pop_cov', title = \"NK cells(pop_cov)\")\n",
    "sc.pl.pca(B_cells, color='pop_cov', title = \"B cells (pop_cov)\")\n",
    "sc.pl.pca(dendritic_cells, color='pop_cov', title = \"dendritic cells (pop_cov)\")\n"
   ]
  },
  {
   "cell_type": "code",
   "execution_count": null,
   "metadata": {},
   "outputs": [],
   "source": [
    "# Visualize how known covariates can explain the PCs\n",
    "sc.pl.pca(megakaryocytes, color='batch_cov', title = \"Megakaryocytes (batch_cov)\")\n",
    "sc.pl.pca(CD4_T_cells, color='batch_cov', title = \"CD4 T cells (batch_cov)\")\n",
    "sc.pl.pca(CD8_T_cells, color='batch_cov', title = \"CD8 T cells (batch_cov)\")\n",
    "sc.pl.pca(CD14_monocytes, color='batch_cov', title = \"CD14+ monocytes (batch_cov)\")\n",
    "sc.pl.pca(FCGR3A_monocytes, color='batch_cov', title = \"FCGR3A+ monocytes (batch_cov)\")\n",
    "sc.pl.pca(NK_cells, color='batch_cov', title = \"NK cells(batch_cov)\")\n",
    "sc.pl.pca(B_cells, color='batch_cov', title = \"B cells (batch_cov)\")\n",
    "sc.pl.pca(dendritic_cells, color='batch_cov', title = \"dendritic cells (batch_cov)\")"
   ]
  },
  {
   "cell_type": "code",
   "execution_count": null,
   "metadata": {},
   "outputs": [],
   "source": [
    "# Visualize how known covariates can explain the PCs\n",
    "sc.pl.pca(megakaryocytes, color='percent_mito', title = \"Megakaryocytes\")\n",
    "sc.pl.pca(CD4_T_cells, color='percent_mito', title = \"CD4 T cells\")\n",
    "sc.pl.pca(CD8_T_cells, color='percent_mito', title = \"CD8 T cells\")\n",
    "sc.pl.pca(CD14_monocytes, color='percent_mito', title = \"CD14+ monocytes\")\n",
    "sc.pl.pca(FCGR3A_monocytes, color='percent_mito', title = \"FCGR3A+ monocytes\")\n",
    "sc.pl.pca(NK_cells, color='percent_mito', title = \"NK cells\")\n",
    "sc.pl.pca(B_cells, color='percent_mito', title = \"B cells\")\n",
    "sc.pl.pca(dendritic_cells, color='percent_mito', title = \"dendritic cells\")\n"
   ]
  },
  {
   "cell_type": "code",
   "execution_count": null,
   "metadata": {},
   "outputs": [],
   "source": [
    "# Visualize how known covariates can explain the PCs\n",
    "sc.pl.pca(megakaryocytes, color='pct_counts_in_top_50_genes', title = \"Megakaryocytes\")\n",
    "sc.pl.pca(CD4_T_cells, color='pct_counts_in_top_50_genes', title = \"CD4 T cells\")\n",
    "sc.pl.pca(CD8_T_cells, color='pct_counts_in_top_50_genes', title = \"CD8 T cells\")\n",
    "sc.pl.pca(CD14_monocytes, color='pct_counts_in_top_50_genes', title = \"CD14+ monocytes\")\n",
    "sc.pl.pca(FCGR3A_monocytes, color='pct_counts_in_top_50_genes', title = \"FCGR3A+ monocytes\")\n",
    "sc.pl.pca(NK_cells, color='pct_counts_in_top_50_genes', title = \"NK cells\")\n",
    "sc.pl.pca(B_cells, color='pct_counts_in_top_50_genes', title = \"B cells\")\n",
    "sc.pl.pca(dendritic_cells, color='pct_counts_in_top_50_genes', title = \"dendritic cells\")"
   ]
  },
  {
   "cell_type": "code",
   "execution_count": null,
   "metadata": {},
   "outputs": [],
   "source": [
    "save_dir = \"/work-zfs/abattle4/prashanthi/Single_cell_eQTL/data/processed_UMI/\"\n",
    "megakaryocytes.write(save_dir + \"megakaryocytes.h5ad\")\n",
    "CD4_T_cells.write(save_dir + \"CD4_T_cells.h5ad\")\n",
    "CD8_T_cells.write(save_dir + \"CD8_T_cells.h5ad\")\n",
    "CD14_monocytes.write(save_dir + \"CD14_monocytes.h5ad\")\n",
    "FCGR3A_monocytes.write(save_dir + \"FCGR3A_monocytes.h5ad\")\n",
    "NK_cells.write(save_dir + \"NK_cells.h5ad\")\n",
    "B_cells.write(save_dir + \"B_cells.h5ad\")\n",
    "dendritic_cells.write(save_dir + \"dendritic_cells.h5ad\")\n"
   ]
  },
  {
   "cell_type": "code",
   "execution_count": null,
   "metadata": {},
   "outputs": [],
   "source": []
  }
 ],
 "metadata": {
  "kernelspec": {
   "display_name": "Python [default]",
   "language": "python",
   "name": "python3"
  },
  "language_info": {
   "codemirror_mode": {
    "name": "ipython",
    "version": 3
   },
   "file_extension": ".py",
   "mimetype": "text/x-python",
   "name": "python",
   "nbconvert_exporter": "python",
   "pygments_lexer": "ipython3",
   "version": "3.6.5"
  }
 },
 "nbformat": 4,
 "nbformat_minor": 2
}
