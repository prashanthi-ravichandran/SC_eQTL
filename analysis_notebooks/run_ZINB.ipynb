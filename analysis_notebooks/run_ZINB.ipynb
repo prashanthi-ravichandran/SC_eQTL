{
 "cells": [
  {
   "cell_type": "code",
   "execution_count": 1,
   "metadata": {},
   "outputs": [],
   "source": [
    "import numpy as np\n",
    "import tensorflow as tf\n",
    "import scipy.special as sp\n",
    "import scipy.stats as st\n",
    "import scqtl\n",
    "import pandas as pd"
   ]
  },
  {
   "cell_type": "code",
   "execution_count": 2,
   "metadata": {},
   "outputs": [
    {
     "name": "stdout",
     "output_type": "stream",
     "text": [
      "19999 13788.233\n",
      "19999 13010.246\n"
     ]
    }
   ],
   "source": [
    "# Generate some ZINB-distributed counts\n",
    "num_samples = 1000\n",
    "umi = np.concatenate([scqtl.simulation.simulate(\n",
    "  num_samples=num_samples,\n",
    "  size=1e5,\n",
    "  seed=trial)[0][:,:1] for trial in range(10)], axis=1)\n",
    "size_factor = 1e5 * np.ones((num_samples, 1))\n",
    "\n",
    "# Generate a null design matrix\n",
    "design = np.zeros((num_samples, 1))\n",
    "\n",
    "# Map all samples to one individual/condition, i.e. one set of ZINB parameters\n",
    "onehot = np.ones((num_samples, 1))\n",
    "\n",
    "# Find the NB MLE\n",
    "# Important: casting to float32 is required\n",
    "init = scqtl.tf.fit(\n",
    "  umi=umi.astype(np.float32),\n",
    "  onehot=onehot.astype(np.float32),\n",
    "  design=design.astype(np.float32),\n",
    "  size_factor=size_factor.astype(np.float32),\n",
    "  learning_rate=1e-3,\n",
    "  max_epochs=20000,\n",
    "  verbose=True,\n",
    ")\n",
    "\n",
    "# Find the ZINB MLE, starting from the NB MLE\n",
    "log_mu, log_phi, logodds, nb_llik, zinb_llik = scqtl.tf.fit(\n",
    "  umi=umi.astype(np.float32),\n",
    "  onehot=onehot.astype(np.float32),\n",
    "  design=design.astype(np.float32),\n",
    "  size_factor=size_factor.astype(np.float32),\n",
    "  learning_rate=1e-3,\n",
    "  max_epochs=20000,\n",
    "  warm_start=init[:3],\n",
    "  verbose=True)"
   ]
  },
  {
   "cell_type": "code",
   "execution_count": 3,
   "metadata": {},
   "outputs": [
    {
     "name": "stdout",
     "output_type": "stream",
     "text": [
      "(1000, 1)\n",
      "(1000, 10)\n",
      "(1000, 1)\n",
      "(1000, 1)\n"
     ]
    }
   ],
   "source": [
    "print(design.shape)\n",
    "print(umi.shape)\n",
    "print(onehot.shape)\n",
    "print(size_factor.shape)"
   ]
  },
  {
   "cell_type": "code",
   "execution_count": 2,
   "metadata": {},
   "outputs": [],
   "source": [
    "def recode(annotations, key):\n",
    "  n = annotations.shape[0]\n",
    "  cat = sorted(set(annotations[key]))\n",
    "  onehot = np.zeros((n, len(cat)))\n",
    "  onehot[np.arange(n), annotations[key].apply(cat.index)] = 1\n",
    "  return onehot"
   ]
  },
  {
   "cell_type": "code",
   "execution_count": 3,
   "metadata": {},
   "outputs": [],
   "source": [
    "save_dir = \"/work-zfs/abattle4/prashanthi/Single_cell_eQTL/data/UMI_counts/expr/\"\n",
    "expr = pd.read_csv(save_dir + \"megakaryocytes.csv\")"
   ]
  },
  {
   "cell_type": "code",
   "execution_count": 4,
   "metadata": {},
   "outputs": [],
   "source": [
    "pseudobulk = pd.read_csv(\"/work-zfs/abattle4/prashanthi/Single_cell_eQTL/data/expr/\" + \"megakaryocytes.txt\", sep = \"\\t\")\n",
    "pseudobulk = pseudobulk[~(pseudobulk == 0).any(axis=1)]\n",
    "expr = expr.loc[:, np.insert(pseudobulk.index.values, 0, \"index\", axis=0)]"
   ]
  },
  {
   "cell_type": "code",
   "execution_count": 5,
   "metadata": {},
   "outputs": [
    {
     "name": "stdout",
     "output_type": "stream",
     "text": [
      "True\n"
     ]
    },
    {
     "data": {
      "text/html": [
       "<div>\n",
       "<style scoped>\n",
       "    .dataframe tbody tr th:only-of-type {\n",
       "        vertical-align: middle;\n",
       "    }\n",
       "\n",
       "    .dataframe tbody tr th {\n",
       "        vertical-align: top;\n",
       "    }\n",
       "\n",
       "    .dataframe thead th {\n",
       "        text-align: right;\n",
       "    }\n",
       "</style>\n",
       "<table border=\"1\" class=\"dataframe\">\n",
       "  <thead>\n",
       "    <tr style=\"text-align: right;\">\n",
       "      <th></th>\n",
       "      <th>index</th>\n",
       "      <th>disease_cov</th>\n",
       "      <th>ct_cov</th>\n",
       "      <th>pop_cov</th>\n",
       "      <th>ind_cov</th>\n",
       "      <th>well</th>\n",
       "      <th>batch_cov</th>\n",
       "      <th>batch</th>\n",
       "      <th>percent_mito</th>\n",
       "      <th>n_genes_by_counts</th>\n",
       "      <th>log1p_n_genes_by_counts</th>\n",
       "      <th>total_counts</th>\n",
       "      <th>log1p_total_counts</th>\n",
       "      <th>pct_counts_in_top_50_genes</th>\n",
       "      <th>pct_counts_in_top_100_genes</th>\n",
       "      <th>pct_counts_in_top_200_genes</th>\n",
       "      <th>pct_counts_in_top_500_genes</th>\n",
       "      <th>n_genes</th>\n",
       "    </tr>\n",
       "  </thead>\n",
       "  <tbody>\n",
       "    <tr>\n",
       "      <th>0</th>\n",
       "      <td>AAACCTGAGCAATATG-1-0-0-0-0-0-0-0-0-0-0-0-0-0</td>\n",
       "      <td>sle</td>\n",
       "      <td>Megakaryocytes</td>\n",
       "      <td>WHITE</td>\n",
       "      <td>901560200_901560200</td>\n",
       "      <td>YE_8-16-1</td>\n",
       "      <td>lupus8.16</td>\n",
       "      <td>0</td>\n",
       "      <td>0.046385</td>\n",
       "      <td>548</td>\n",
       "      <td>6.308098</td>\n",
       "      <td>1145.0</td>\n",
       "      <td>7.044033</td>\n",
       "      <td>42.270742</td>\n",
       "      <td>56.244541</td>\n",
       "      <td>69.606987</td>\n",
       "      <td>95.807860</td>\n",
       "      <td>548</td>\n",
       "    </tr>\n",
       "    <tr>\n",
       "      <th>1</th>\n",
       "      <td>AACCGCGTCGACCAGC-1-0-0-0-0-0-0-0-0-0-0-0-0-0</td>\n",
       "      <td>sle</td>\n",
       "      <td>Megakaryocytes</td>\n",
       "      <td>ASIAN</td>\n",
       "      <td>1597_1597</td>\n",
       "      <td>YE_8-16-1</td>\n",
       "      <td>lupus8.16</td>\n",
       "      <td>0</td>\n",
       "      <td>0.024090</td>\n",
       "      <td>537</td>\n",
       "      <td>6.287859</td>\n",
       "      <td>1444.0</td>\n",
       "      <td>7.275865</td>\n",
       "      <td>51.038781</td>\n",
       "      <td>66.481994</td>\n",
       "      <td>76.662050</td>\n",
       "      <td>97.437673</td>\n",
       "      <td>537</td>\n",
       "    </tr>\n",
       "    <tr>\n",
       "      <th>2</th>\n",
       "      <td>AACTCAGGTTGGTTTG-1-0-0-0-0-0-0-0-0-0-0-0-0-0</td>\n",
       "      <td>sle</td>\n",
       "      <td>Megakaryocytes</td>\n",
       "      <td>ASIAN</td>\n",
       "      <td>1597_1597</td>\n",
       "      <td>YE_8-16-1</td>\n",
       "      <td>lupus8.16</td>\n",
       "      <td>0</td>\n",
       "      <td>0.025518</td>\n",
       "      <td>538</td>\n",
       "      <td>6.289716</td>\n",
       "      <td>1568.0</td>\n",
       "      <td>7.358194</td>\n",
       "      <td>51.594388</td>\n",
       "      <td>67.474490</td>\n",
       "      <td>78.443878</td>\n",
       "      <td>97.576531</td>\n",
       "      <td>538</td>\n",
       "    </tr>\n",
       "    <tr>\n",
       "      <th>3</th>\n",
       "      <td>ACCAGTAAGCAGATCG-1-0-0-0-0-0-0-0-0-0-0-0-0-0</td>\n",
       "      <td>sle</td>\n",
       "      <td>Megakaryocytes</td>\n",
       "      <td>ASIAN</td>\n",
       "      <td>1597_1597</td>\n",
       "      <td>YE_8-16-1</td>\n",
       "      <td>lupus8.16</td>\n",
       "      <td>0</td>\n",
       "      <td>0.045817</td>\n",
       "      <td>752</td>\n",
       "      <td>6.624065</td>\n",
       "      <td>1688.0</td>\n",
       "      <td>7.431892</td>\n",
       "      <td>35.781991</td>\n",
       "      <td>50.592417</td>\n",
       "      <td>64.632701</td>\n",
       "      <td>85.071090</td>\n",
       "      <td>752</td>\n",
       "    </tr>\n",
       "    <tr>\n",
       "      <th>4</th>\n",
       "      <td>ACCTTTAAGTGTCCCG-1-0-0-0-0-0-0-0-0-0-0-0-0-0</td>\n",
       "      <td>sle</td>\n",
       "      <td>Megakaryocytes</td>\n",
       "      <td>ASIAN</td>\n",
       "      <td>1597_1597</td>\n",
       "      <td>YE_8-16-1</td>\n",
       "      <td>lupus8.16</td>\n",
       "      <td>0</td>\n",
       "      <td>0.027282</td>\n",
       "      <td>565</td>\n",
       "      <td>6.338594</td>\n",
       "      <td>1496.0</td>\n",
       "      <td>7.311218</td>\n",
       "      <td>44.518717</td>\n",
       "      <td>61.163102</td>\n",
       "      <td>75.601604</td>\n",
       "      <td>95.655080</td>\n",
       "      <td>565</td>\n",
       "    </tr>\n",
       "  </tbody>\n",
       "</table>\n",
       "</div>"
      ],
      "text/plain": [
       "                                          index disease_cov          ct_cov  \\\n",
       "0  AAACCTGAGCAATATG-1-0-0-0-0-0-0-0-0-0-0-0-0-0         sle  Megakaryocytes   \n",
       "1  AACCGCGTCGACCAGC-1-0-0-0-0-0-0-0-0-0-0-0-0-0         sle  Megakaryocytes   \n",
       "2  AACTCAGGTTGGTTTG-1-0-0-0-0-0-0-0-0-0-0-0-0-0         sle  Megakaryocytes   \n",
       "3  ACCAGTAAGCAGATCG-1-0-0-0-0-0-0-0-0-0-0-0-0-0         sle  Megakaryocytes   \n",
       "4  ACCTTTAAGTGTCCCG-1-0-0-0-0-0-0-0-0-0-0-0-0-0         sle  Megakaryocytes   \n",
       "\n",
       "  pop_cov              ind_cov       well  batch_cov  batch  percent_mito  \\\n",
       "0   WHITE  901560200_901560200  YE_8-16-1  lupus8.16      0      0.046385   \n",
       "1   ASIAN            1597_1597  YE_8-16-1  lupus8.16      0      0.024090   \n",
       "2   ASIAN            1597_1597  YE_8-16-1  lupus8.16      0      0.025518   \n",
       "3   ASIAN            1597_1597  YE_8-16-1  lupus8.16      0      0.045817   \n",
       "4   ASIAN            1597_1597  YE_8-16-1  lupus8.16      0      0.027282   \n",
       "\n",
       "   n_genes_by_counts  log1p_n_genes_by_counts  total_counts  \\\n",
       "0                548                 6.308098        1145.0   \n",
       "1                537                 6.287859        1444.0   \n",
       "2                538                 6.289716        1568.0   \n",
       "3                752                 6.624065        1688.0   \n",
       "4                565                 6.338594        1496.0   \n",
       "\n",
       "   log1p_total_counts  pct_counts_in_top_50_genes  \\\n",
       "0            7.044033                   42.270742   \n",
       "1            7.275865                   51.038781   \n",
       "2            7.358194                   51.594388   \n",
       "3            7.431892                   35.781991   \n",
       "4            7.311218                   44.518717   \n",
       "\n",
       "   pct_counts_in_top_100_genes  pct_counts_in_top_200_genes  \\\n",
       "0                    56.244541                    69.606987   \n",
       "1                    66.481994                    76.662050   \n",
       "2                    67.474490                    78.443878   \n",
       "3                    50.592417                    64.632701   \n",
       "4                    61.163102                    75.601604   \n",
       "\n",
       "   pct_counts_in_top_500_genes  n_genes  \n",
       "0                    95.807860      548  \n",
       "1                    97.437673      537  \n",
       "2                    97.576531      538  \n",
       "3                    85.071090      752  \n",
       "4                    95.655080      565  "
      ]
     },
     "execution_count": 5,
     "metadata": {},
     "output_type": "execute_result"
    }
   ],
   "source": [
    "meta_data = pd.read_csv(\"/work-zfs/abattle4/prashanthi/Single_cell_eQTL/data/UMI_counts/metadata/megakaryocytes.csv\")\n",
    "print(meta_data['index'].equals(expr['index']))\n",
    "meta_data.head()"
   ]
  },
  {
   "cell_type": "code",
   "execution_count": 6,
   "metadata": {},
   "outputs": [
    {
     "name": "stdout",
     "output_type": "stream",
     "text": [
      "0    10188\n",
      "Name: batch, dtype: int64\n",
      "lupus7.20    1346\n",
      "lupus8.23    1284\n",
      "lupus8.17    1110\n",
      "lupus8.2     1004\n",
      "lupus8.3      987\n",
      "lupus7.19     974\n",
      "lupus1.10     915\n",
      "lupus7.26     866\n",
      "lupus8.16     661\n",
      "lupus8.9      643\n",
      "lupus7.13     398\n",
      "Name: batch_cov, dtype: int64\n",
      "ASIAN    5719\n",
      "WHITE    4469\n",
      "Name: pop_cov, dtype: int64\n",
      "YE_7-20-3    354\n",
      "YE_8-23-1    345\n",
      "YE_8-17-4    334\n",
      "YE_8-23-3    334\n",
      "YE_7-20-4    333\n",
      "YE_7-20-1    332\n",
      "YE_8-9-4     329\n",
      "YE_7-20-2    327\n",
      "YE_8-23-2    324\n",
      "YE_8-9-3     314\n",
      "YE_8-17-3    303\n",
      "YE_8-23-4    281\n",
      "YE_7-26-1    281\n",
      "YE_8-2-1     274\n",
      "YE_8-2-3     271\n",
      "YE_7-19-3    265\n",
      "YE_8-2-4     263\n",
      "YE_8-3-1     258\n",
      "YE_8-3-3     256\n",
      "YE_7-19-1    245\n",
      "YE_7-19-4    240\n",
      "YE_8-17-1    239\n",
      "YE_8-3-4     239\n",
      "YE110-4      235\n",
      "YE_8-3-2     234\n",
      "YE_8-17-2    234\n",
      "YE110-1      229\n",
      "YE110-3      228\n",
      "YE_7-19-2    224\n",
      "YE110-2      223\n",
      "YE_7-26-4    211\n",
      "YE_8-16-2    211\n",
      "YE_7-26-2    210\n",
      "YE_8-2-2     196\n",
      "YE_8-16-3    193\n",
      "YE_8-16-4    189\n",
      "YE_7-26-3    164\n",
      "YE_7-13-2    102\n",
      "YE_7-13-1    102\n",
      "YE_7-13-4     99\n",
      "YE_7-13-3     95\n",
      "YE_8-16-1     68\n",
      "Name: well, dtype: int64\n"
     ]
    }
   ],
   "source": [
    "# Examine the meta data distributions\n",
    "print(meta_data.batch.value_counts())\n",
    "print(meta_data.batch_cov.value_counts())\n",
    "print(meta_data.pop_cov.value_counts())\n",
    "print(meta_data.well.value_counts())"
   ]
  },
  {
   "cell_type": "code",
   "execution_count": 6,
   "metadata": {},
   "outputs": [
    {
     "data": {
      "text/plain": [
       "array([[0., 0., 0., ..., 0., 0., 0.],\n",
       "       [0., 0., 0., ..., 0., 0., 0.],\n",
       "       [0., 0., 0., ..., 0., 0., 0.],\n",
       "       ...,\n",
       "       [0., 0., 0., ..., 0., 0., 0.],\n",
       "       [0., 0., 0., ..., 0., 0., 1.],\n",
       "       [3., 0., 0., ..., 0., 0., 1.]])"
      ]
     },
     "execution_count": 6,
     "metadata": {},
     "output_type": "execute_result"
    }
   ],
   "source": [
    "umi = expr.iloc[:, 1:].values\n",
    "umi"
   ]
  },
  {
   "cell_type": "code",
   "execution_count": 7,
   "metadata": {},
   "outputs": [
    {
     "name": "stdout",
     "output_type": "stream",
     "text": [
      "True\n"
     ]
    }
   ],
   "source": [
    "size_factor = pd.read_csv(\"/work-zfs/abattle4/prashanthi/Single_cell_eQTL/data/size_factor/megakaryocytes.csv\")\n",
    "print(size_factor['index'].equals(expr['index']))\n",
    "size_factor = size_factor['total_counts'].values.reshape((umi.shape[0],1))"
   ]
  },
  {
   "cell_type": "code",
   "execution_count": 8,
   "metadata": {},
   "outputs": [],
   "source": [
    "batch     = recode(meta_data, \"batch\")\n",
    "batch_cov = recode(meta_data, \"batch_cov\")\n",
    "well      = recode(meta_data, \"well\")\n",
    "pop_cov   = recode(meta_data, \"pop_cov\")\n",
    "design    = np.concatenate((batch, batch_cov, well, pop_cov), axis = 1)\n",
    "design -= design.mean(axis=0)\n",
    "onehot = recode(meta_data, \"ind_cov\")"
   ]
  },
  {
   "cell_type": "code",
   "execution_count": 9,
   "metadata": {},
   "outputs": [],
   "source": [
    "# Create variables to store the inferred log_mu and log_phi values\n",
    "log_mu = np.empty([onehot.shape[1], umi.shape[1]])\n",
    "log_phi = np.empty([onehot.shape[1], umi.shape[1]])\n",
    "logodds = np.empty([onehot.shape[1], umi.shape[1]])\n",
    "nb_llik = np.empty([onehot.shape[1]])\n",
    "zinb_llik = np.empty([onehot.shape[1]])"
   ]
  },
  {
   "cell_type": "code",
   "execution_count": 10,
   "metadata": {},
   "outputs": [
    {
     "name": "stdout",
     "output_type": "stream",
     "text": [
      "(10188, 56)\n",
      "(10188, 1686)\n",
      "(10188, 119)\n",
      "(10188, 1)\n"
     ]
    }
   ],
   "source": [
    "print(design.shape)\n",
    "print(umi.shape)\n",
    "print(onehot.shape)\n",
    "print(size_factor.shape)"
   ]
  },
  {
   "cell_type": "code",
   "execution_count": null,
   "metadata": {},
   "outputs": [
    {
     "name": "stdout",
     "output_type": "stream",
     "text": [
      "(10188, 200)\n",
      "99999 1562369.8\n",
      "99999 1539600.5\n",
      "(10188, 200)\n",
      "19000 3553104.5\r"
     ]
    }
   ],
   "source": [
    "n_genes = 200\n",
    "for i in range(0, umi.shape[1], n_genes):\n",
    "    if((i + n_genes) < umi.shape[1]):\n",
    "        start_index = i\n",
    "        end_index = i + n_genes\n",
    "    else:\n",
    "        start_index = i\n",
    "        end_index = umi.shape[1]\n",
    "    umi_sub = umi[:, start_index:end_index]\n",
    "    print(umi_sub.shape)\n",
    "    init = scqtl.tf.fit(\n",
    "      umi=umi_sub.astype(np.float32),\n",
    "      onehot=onehot.astype(np.float32),\n",
    "      design=design.astype(np.float32),\n",
    "      size_factor=size_factor.astype(np.float32),\n",
    "      learning_rate=1e-4,\n",
    "      max_epochs=100000,\n",
    "      verbose=True)\n",
    "    log_mu[:,start_index:end_index], log_phi[:,start_index:end_index], logodds[:,start_index:end_index], nb_llik[start_index:end_index], zinb_llik[start_index:end_index] = scqtl.tf.fit(\n",
    "      umi=umi_sub.astype(np.float32),\n",
    "      onehot=onehot.astype(np.float32),\n",
    "      design=design.astype(np.float32),\n",
    "      size_factor=size_factor.astype(np.float32),\n",
    "      learning_rate=1e-4,\n",
    "      max_epochs=100000,\n",
    "      warm_start=init[:3],\n",
    "      verbose=True)"
   ]
  },
  {
   "cell_type": "code",
   "execution_count": null,
   "metadata": {},
   "outputs": [],
   "source": [
    "res_dir = \"/work-zfs/abattle4/prashanthi/Single_cell_eQTL/results/ZINB_summary_stats/\"+ \"megakaryocytes\"\n",
    "np.savetxt((res_dir + \"/log_mu.csv\"), log_mu, delimiter=\",\")\n",
    "np.savetxt((res_dir + \"/log_phi.csv\"), log_phi, delimiter=\",\")\n",
    "np.savetxt((res_dir + \"/logodds.csv\"), logodds, delimiter=\",\")\n",
    "np.savetxt((res_dir + \"/nb_llik.csv\"), nb_llik, delimiter=\",\")\n",
    "np.savetxt((res_dir + \"/zinb_llik.csv\"), zinb_llik, delimiter=\",\")"
   ]
  },
  {
   "cell_type": "code",
   "execution_count": null,
   "metadata": {},
   "outputs": [],
   "source": []
  }
 ],
 "metadata": {
  "kernelspec": {
   "display_name": "Python [conda env:tensorflow_gpu_env]",
   "language": "python",
   "name": "conda-env-tensorflow_gpu_env-py"
  },
  "language_info": {
   "codemirror_mode": {
    "name": "ipython",
    "version": 3
   },
   "file_extension": ".py",
   "mimetype": "text/x-python",
   "name": "python",
   "nbconvert_exporter": "python",
   "pygments_lexer": "ipython3",
   "version": "3.6.10"
  }
 },
 "nbformat": 4,
 "nbformat_minor": 2
}
